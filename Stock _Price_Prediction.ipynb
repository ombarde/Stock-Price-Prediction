{
  "nbformat": 4,
  "nbformat_minor": 0,
  "metadata": {
    "colab": {
      "name": "Mini_project_2021-22.ipynb",
      "provenance": []
    },
    "kernelspec": {
      "name": "python3",
      "display_name": "Python 3"
    },
    "language_info": {
      "name": "python"
    },
    "accelerator": "GPU"
  },
  "cells": [
    {
      "cell_type": "markdown",
      "source": [
        "**Stock Price Predictions using LSTM**"
      ],
      "metadata": {
        "id": "Ftme2w0W_-jH"
      }
    },
    {
      "cell_type": "markdown",
      "source": [
        "Installing Libraries"
      ],
      "metadata": {
        "id": "fAm329bS3Q_f"
      }
    },
    {
      "cell_type": "code",
      "source": [
        "!pip install yfinance"
      ],
      "metadata": {
        "id": "29wGJRH2R6fz",
        "colab": {
          "base_uri": "https://localhost:8080/"
        },
        "outputId": "ca3cecbc-08c8-44ff-ced1-00b33a036c87"
      },
      "execution_count": null,
      "outputs": [
        {
          "output_type": "stream",
          "name": "stdout",
          "text": [
            "Looking in indexes: https://pypi.org/simple, https://us-python.pkg.dev/colab-wheels/public/simple/\n",
            "Collecting yfinance\n",
            "  Downloading yfinance-0.1.70-py2.py3-none-any.whl (26 kB)\n",
            "Collecting lxml>=4.5.1\n",
            "  Downloading lxml-4.8.0-cp37-cp37m-manylinux_2_17_x86_64.manylinux2014_x86_64.manylinux_2_24_x86_64.whl (6.4 MB)\n",
            "\u001b[K     |████████████████████████████████| 6.4 MB 7.4 MB/s \n",
            "\u001b[?25hCollecting requests>=2.26\n",
            "  Downloading requests-2.27.1-py2.py3-none-any.whl (63 kB)\n",
            "\u001b[K     |████████████████████████████████| 63 kB 2.2 MB/s \n",
            "\u001b[?25hRequirement already satisfied: numpy>=1.15 in /usr/local/lib/python3.7/dist-packages (from yfinance) (1.21.6)\n",
            "Requirement already satisfied: multitasking>=0.0.7 in /usr/local/lib/python3.7/dist-packages (from yfinance) (0.0.10)\n",
            "Requirement already satisfied: pandas>=0.24.0 in /usr/local/lib/python3.7/dist-packages (from yfinance) (1.3.5)\n",
            "Requirement already satisfied: python-dateutil>=2.7.3 in /usr/local/lib/python3.7/dist-packages (from pandas>=0.24.0->yfinance) (2.8.2)\n",
            "Requirement already satisfied: pytz>=2017.3 in /usr/local/lib/python3.7/dist-packages (from pandas>=0.24.0->yfinance) (2022.1)\n",
            "Requirement already satisfied: six>=1.5 in /usr/local/lib/python3.7/dist-packages (from python-dateutil>=2.7.3->pandas>=0.24.0->yfinance) (1.15.0)\n",
            "Requirement already satisfied: certifi>=2017.4.17 in /usr/local/lib/python3.7/dist-packages (from requests>=2.26->yfinance) (2022.5.18.1)\n",
            "Requirement already satisfied: urllib3<1.27,>=1.21.1 in /usr/local/lib/python3.7/dist-packages (from requests>=2.26->yfinance) (1.24.3)\n",
            "Requirement already satisfied: idna<4,>=2.5 in /usr/local/lib/python3.7/dist-packages (from requests>=2.26->yfinance) (2.10)\n",
            "Requirement already satisfied: charset-normalizer~=2.0.0 in /usr/local/lib/python3.7/dist-packages (from requests>=2.26->yfinance) (2.0.12)\n",
            "Installing collected packages: requests, lxml, yfinance\n",
            "  Attempting uninstall: requests\n",
            "    Found existing installation: requests 2.23.0\n",
            "    Uninstalling requests-2.23.0:\n",
            "      Successfully uninstalled requests-2.23.0\n",
            "  Attempting uninstall: lxml\n",
            "    Found existing installation: lxml 4.2.6\n",
            "    Uninstalling lxml-4.2.6:\n",
            "      Successfully uninstalled lxml-4.2.6\n",
            "\u001b[31mERROR: pip's dependency resolver does not currently take into account all the packages that are installed. This behaviour is the source of the following dependency conflicts.\n",
            "google-colab 1.0.0 requires requests~=2.23.0, but you have requests 2.27.1 which is incompatible.\n",
            "datascience 0.10.6 requires folium==0.2.1, but you have folium 0.8.3 which is incompatible.\u001b[0m\n",
            "Successfully installed lxml-4.8.0 requests-2.27.1 yfinance-0.1.70\n"
          ]
        }
      ]
    },
    {
      "cell_type": "markdown",
      "source": [
        "Importing Libraries"
      ],
      "metadata": {
        "id": "ox_FwnmK3Wc8"
      }
    },
    {
      "cell_type": "code",
      "source": [
        "import numpy as np\n",
        "import pandas as pd\n",
        "import matplotlib.pyplot as plt\n",
        "from keras.models import Sequential\n",
        "from keras.layers import Dense, LSTM\n",
        "import math\n",
        "from sklearn.preprocessing import MinMaxScaler\n",
        "import datetime as dt\n",
        "import pandas_datareader as web\n",
        "import yfinance as yf"
      ],
      "metadata": {
        "id": "0_nBiXYumBIN"
      },
      "execution_count": null,
      "outputs": []
    },
    {
      "cell_type": "markdown",
      "source": [
        "Uploading Symbol Names"
      ],
      "metadata": {
        "id": "diY2hcty3bka"
      }
    },
    {
      "cell_type": "code",
      "source": [
        "from google.colab import files\n",
        "uploaded = files.upload()\n",
        "compamy_name_symbol = pd.read_excel(\"Companies with thier Symbol.xlsx\",\"Data\")"
      ],
      "metadata": {
        "colab": {
          "resources": {
            "http://localhost:8080/nbextensions/google.colab/files.js": {
              "data": "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",
              "ok": true,
              "headers": [
                [
                  "content-type",
                  "application/javascript"
                ]
              ],
              "status": 200,
              "status_text": ""
            }
          },
          "base_uri": "https://localhost:8080/",
          "height": 74
        },
        "id": "g7uq6SmvR9Dz",
        "outputId": "d9ee936a-5014-4a33-bbec-260c2693dd5e"
      },
      "execution_count": null,
      "outputs": [
        {
          "output_type": "display_data",
          "data": {
            "text/plain": [
              "<IPython.core.display.HTML object>"
            ],
            "text/html": [
              "\n",
              "     <input type=\"file\" id=\"files-c9d3436b-d8d5-4616-ba23-eab0b4cee03b\" name=\"files[]\" multiple disabled\n",
              "        style=\"border:none\" />\n",
              "     <output id=\"result-c9d3436b-d8d5-4616-ba23-eab0b4cee03b\">\n",
              "      Upload widget is only available when the cell has been executed in the\n",
              "      current browser session. Please rerun this cell to enable.\n",
              "      </output>\n",
              "      <script src=\"/nbextensions/google.colab/files.js\"></script> "
            ]
          },
          "metadata": {}
        },
        {
          "output_type": "stream",
          "name": "stdout",
          "text": [
            "Saving Companies with thier Symbol.xlsx to Companies with thier Symbol.xlsx\n"
          ]
        }
      ]
    },
    {
      "cell_type": "markdown",
      "source": [
        "Data Fetching"
      ],
      "metadata": {
        "id": "93jOXD4Q3gvp"
      }
    },
    {
      "cell_type": "code",
      "source": [
        "#Load Data\n",
        "compamy_name_symbol.dropna()\n",
        "start = dt.datetime(2016,1,1)\n",
        "end = dt.datetime.now()\n",
        "#companies = ['ADANIPORTS.NS','INFY.NS','SAIL.NS']\n",
        "total_dataset = pd.DataFrame(columns = ['High','Low','Open','Close','Volume','Adj Close','Date','Sector','Company Name','Industry','Symbol','Security Name']) \n",
        "#total_dataset.set_index('Date')\n",
        "\n",
        "for company in compamy_name_symbol['Symbol']:\n",
        "    #print(compamy_name_symbol[compamy_name_symbol['Symbol'] == company])\n",
        "    try:\n",
        "        tick = yf.Ticker(company+'.NS')\n",
        "        data = tick.history(period=\"5y\")\n",
        "        #data = web.DataReader(company+'.NS', start, end)\n",
        "        data['Date'] = data.index\n",
        "        data.reset_index(drop=True, inplace=True)\n",
        "        #dataset = compamy_name_symbol[compamy_name_symbol['Symbol'] == company] + data\n",
        "        data[compamy_name_symbol[compamy_name_symbol['Symbol'] == company].columns] =compamy_name_symbol[compamy_name_symbol['Symbol'] == company].values[0]\n",
        "        total_dataset=total_dataset.append(data)\n",
        "        #print(data)\n",
        "        #print(total_dataset)\n",
        "    except:\n",
        "        pass\n",
        "#total_dataset"
      ],
      "metadata": {
        "colab": {
          "base_uri": "https://localhost:8080/"
        },
        "id": "gUWqRCs7SMmD",
        "outputId": "3790094d-3136-47ae-e567-fc68d5d9d805"
      },
      "execution_count": null,
      "outputs": [
        {
          "output_type": "stream",
          "name": "stdout",
          "text": [
            "- IBULLS.NS: No data found, symbol may be delisted\n",
            "- RELHOME.NS: No data found for this date range, symbol may be delisted\n",
            "- MUTHTFN.NS: No data found, symbol may be delisted\n",
            "- DEEPAKNI.NS: No data found for this date range, symbol may be delisted\n",
            "- KSBPUMPS.NS: No data found for this date range, symbol may be delisted\n",
            "- 3IINFOTECH.NS: No data found, symbol may be delisted\n",
            "- EASTRNSI.NS: No data found, symbol may be delisted\n",
            "- SHIVTEX.NS: No data found for this date range, symbol may be delisted\n",
            "- ZENCAP.NS: No data found, symbol may be delisted\n",
            "- JINDALIRON.NS: No data found, symbol may be delisted\n",
            "- TATASTLBSL.NS: No data found, symbol may be delisted\n",
            "- AVANTI.NS: No data found for this date range, symbol may be delisted\n",
            "- TATATELELR.NS: No data found, symbol may be delisted\n"
          ]
        }
      ]
    },
    {
      "cell_type": "code",
      "source": [
        "data=total_dataset\n",
        "data"
      ],
      "metadata": {
        "colab": {
          "base_uri": "https://localhost:8080/",
          "height": 658
        },
        "id": "1BaCQ63zSYiD",
        "outputId": "bf2cff90-4024-4bbb-dac4-01aecdfa025a"
      },
      "execution_count": null,
      "outputs": [
        {
          "output_type": "execute_result",
          "data": {
            "text/plain": [
              "            High         Low        Open       Close    Volume Adj Close  \\\n",
              "0      13.386231   12.865655   13.148253   12.999517     30852       NaN   \n",
              "1      13.341609   12.999517   12.999517   13.103632     15876       NaN   \n",
              "2      13.534966   13.088759   13.475472   13.252368     44048       NaN   \n",
              "3      13.639082   12.791288   13.639082   13.430853     46228       NaN   \n",
              "4      13.594461   12.821034   12.821034   13.386230     83282       NaN   \n",
              "...          ...         ...         ...         ...       ...       ...   \n",
              "1231  235.899994  228.750000  234.949997  229.800003  16642801       NaN   \n",
              "1232  231.399994  224.750000  230.199997  227.000000  17636195       NaN   \n",
              "1233  229.899994  220.000000  229.000000  220.899994  16194564       NaN   \n",
              "1234  224.300003  210.199997  222.949997  221.449997  34963419       NaN   \n",
              "1235  226.800003  222.699997  225.699997  224.649994  16159280       NaN   \n",
              "\n",
              "           Date      Sector     Company Name  \\\n",
              "0    2017-05-29  Automotive  PTL Enterprises   \n",
              "1    2017-05-30  Automotive  PTL Enterprises   \n",
              "2    2017-05-31  Automotive  PTL Enterprises   \n",
              "3    2017-06-01  Automotive  PTL Enterprises   \n",
              "4    2017-06-02  Automotive  PTL Enterprises   \n",
              "...         ...         ...              ...   \n",
              "1231 2022-05-23   Utilities       Tata Power   \n",
              "1232 2022-05-24   Utilities       Tata Power   \n",
              "1233 2022-05-25   Utilities       Tata Power   \n",
              "1234 2022-05-26   Utilities       Tata Power   \n",
              "1235 2022-05-27   Utilities       Tata Power   \n",
              "\n",
              "                               Industry     Symbol           Security Name  \\\n",
              "0                                 Tyres        PTL  PTL ENTERPRISES LTD.-$   \n",
              "1                                 Tyres        PTL  PTL ENTERPRISES LTD.-$   \n",
              "2                                 Tyres        PTL  PTL ENTERPRISES LTD.-$   \n",
              "3                                 Tyres        PTL  PTL ENTERPRISES LTD.-$   \n",
              "4                                 Tyres        PTL  PTL ENTERPRISES LTD.-$   \n",
              "...                                 ...        ...                     ...   \n",
              "1231  Power - Generation & Distribution  TATAPOWER      TATA POWER CO.LTD.   \n",
              "1232  Power - Generation & Distribution  TATAPOWER      TATA POWER CO.LTD.   \n",
              "1233  Power - Generation & Distribution  TATAPOWER      TATA POWER CO.LTD.   \n",
              "1234  Power - Generation & Distribution  TATAPOWER      TATA POWER CO.LTD.   \n",
              "1235  Power - Generation & Distribution  TATAPOWER      TATA POWER CO.LTD.   \n",
              "\n",
              "      Dividends  Stock Splits  \n",
              "0           0.0           0.0  \n",
              "1           0.0           0.0  \n",
              "2           0.0           0.0  \n",
              "3           0.0           0.0  \n",
              "4           0.0           0.0  \n",
              "...         ...           ...  \n",
              "1231        0.0           0.0  \n",
              "1232        0.0           0.0  \n",
              "1233        0.0           0.0  \n",
              "1234        0.0           0.0  \n",
              "1235        0.0           0.0  \n",
              "\n",
              "[216880 rows x 14 columns]"
            ],
            "text/html": [
              "\n",
              "  <div id=\"df-dbb0dcb8-01dc-44a8-9cb1-24eed153f9c0\">\n",
              "    <div class=\"colab-df-container\">\n",
              "      <div>\n",
              "<style scoped>\n",
              "    .dataframe tbody tr th:only-of-type {\n",
              "        vertical-align: middle;\n",
              "    }\n",
              "\n",
              "    .dataframe tbody tr th {\n",
              "        vertical-align: top;\n",
              "    }\n",
              "\n",
              "    .dataframe thead th {\n",
              "        text-align: right;\n",
              "    }\n",
              "</style>\n",
              "<table border=\"1\" class=\"dataframe\">\n",
              "  <thead>\n",
              "    <tr style=\"text-align: right;\">\n",
              "      <th></th>\n",
              "      <th>High</th>\n",
              "      <th>Low</th>\n",
              "      <th>Open</th>\n",
              "      <th>Close</th>\n",
              "      <th>Volume</th>\n",
              "      <th>Adj Close</th>\n",
              "      <th>Date</th>\n",
              "      <th>Sector</th>\n",
              "      <th>Company Name</th>\n",
              "      <th>Industry</th>\n",
              "      <th>Symbol</th>\n",
              "      <th>Security Name</th>\n",
              "      <th>Dividends</th>\n",
              "      <th>Stock Splits</th>\n",
              "    </tr>\n",
              "  </thead>\n",
              "  <tbody>\n",
              "    <tr>\n",
              "      <th>0</th>\n",
              "      <td>13.386231</td>\n",
              "      <td>12.865655</td>\n",
              "      <td>13.148253</td>\n",
              "      <td>12.999517</td>\n",
              "      <td>30852</td>\n",
              "      <td>NaN</td>\n",
              "      <td>2017-05-29</td>\n",
              "      <td>Automotive</td>\n",
              "      <td>PTL Enterprises</td>\n",
              "      <td>Tyres</td>\n",
              "      <td>PTL</td>\n",
              "      <td>PTL ENTERPRISES LTD.-$</td>\n",
              "      <td>0.0</td>\n",
              "      <td>0.0</td>\n",
              "    </tr>\n",
              "    <tr>\n",
              "      <th>1</th>\n",
              "      <td>13.341609</td>\n",
              "      <td>12.999517</td>\n",
              "      <td>12.999517</td>\n",
              "      <td>13.103632</td>\n",
              "      <td>15876</td>\n",
              "      <td>NaN</td>\n",
              "      <td>2017-05-30</td>\n",
              "      <td>Automotive</td>\n",
              "      <td>PTL Enterprises</td>\n",
              "      <td>Tyres</td>\n",
              "      <td>PTL</td>\n",
              "      <td>PTL ENTERPRISES LTD.-$</td>\n",
              "      <td>0.0</td>\n",
              "      <td>0.0</td>\n",
              "    </tr>\n",
              "    <tr>\n",
              "      <th>2</th>\n",
              "      <td>13.534966</td>\n",
              "      <td>13.088759</td>\n",
              "      <td>13.475472</td>\n",
              "      <td>13.252368</td>\n",
              "      <td>44048</td>\n",
              "      <td>NaN</td>\n",
              "      <td>2017-05-31</td>\n",
              "      <td>Automotive</td>\n",
              "      <td>PTL Enterprises</td>\n",
              "      <td>Tyres</td>\n",
              "      <td>PTL</td>\n",
              "      <td>PTL ENTERPRISES LTD.-$</td>\n",
              "      <td>0.0</td>\n",
              "      <td>0.0</td>\n",
              "    </tr>\n",
              "    <tr>\n",
              "      <th>3</th>\n",
              "      <td>13.639082</td>\n",
              "      <td>12.791288</td>\n",
              "      <td>13.639082</td>\n",
              "      <td>13.430853</td>\n",
              "      <td>46228</td>\n",
              "      <td>NaN</td>\n",
              "      <td>2017-06-01</td>\n",
              "      <td>Automotive</td>\n",
              "      <td>PTL Enterprises</td>\n",
              "      <td>Tyres</td>\n",
              "      <td>PTL</td>\n",
              "      <td>PTL ENTERPRISES LTD.-$</td>\n",
              "      <td>0.0</td>\n",
              "      <td>0.0</td>\n",
              "    </tr>\n",
              "    <tr>\n",
              "      <th>4</th>\n",
              "      <td>13.594461</td>\n",
              "      <td>12.821034</td>\n",
              "      <td>12.821034</td>\n",
              "      <td>13.386230</td>\n",
              "      <td>83282</td>\n",
              "      <td>NaN</td>\n",
              "      <td>2017-06-02</td>\n",
              "      <td>Automotive</td>\n",
              "      <td>PTL Enterprises</td>\n",
              "      <td>Tyres</td>\n",
              "      <td>PTL</td>\n",
              "      <td>PTL ENTERPRISES LTD.-$</td>\n",
              "      <td>0.0</td>\n",
              "      <td>0.0</td>\n",
              "    </tr>\n",
              "    <tr>\n",
              "      <th>...</th>\n",
              "      <td>...</td>\n",
              "      <td>...</td>\n",
              "      <td>...</td>\n",
              "      <td>...</td>\n",
              "      <td>...</td>\n",
              "      <td>...</td>\n",
              "      <td>...</td>\n",
              "      <td>...</td>\n",
              "      <td>...</td>\n",
              "      <td>...</td>\n",
              "      <td>...</td>\n",
              "      <td>...</td>\n",
              "      <td>...</td>\n",
              "      <td>...</td>\n",
              "    </tr>\n",
              "    <tr>\n",
              "      <th>1231</th>\n",
              "      <td>235.899994</td>\n",
              "      <td>228.750000</td>\n",
              "      <td>234.949997</td>\n",
              "      <td>229.800003</td>\n",
              "      <td>16642801</td>\n",
              "      <td>NaN</td>\n",
              "      <td>2022-05-23</td>\n",
              "      <td>Utilities</td>\n",
              "      <td>Tata Power</td>\n",
              "      <td>Power - Generation &amp; Distribution</td>\n",
              "      <td>TATAPOWER</td>\n",
              "      <td>TATA POWER CO.LTD.</td>\n",
              "      <td>0.0</td>\n",
              "      <td>0.0</td>\n",
              "    </tr>\n",
              "    <tr>\n",
              "      <th>1232</th>\n",
              "      <td>231.399994</td>\n",
              "      <td>224.750000</td>\n",
              "      <td>230.199997</td>\n",
              "      <td>227.000000</td>\n",
              "      <td>17636195</td>\n",
              "      <td>NaN</td>\n",
              "      <td>2022-05-24</td>\n",
              "      <td>Utilities</td>\n",
              "      <td>Tata Power</td>\n",
              "      <td>Power - Generation &amp; Distribution</td>\n",
              "      <td>TATAPOWER</td>\n",
              "      <td>TATA POWER CO.LTD.</td>\n",
              "      <td>0.0</td>\n",
              "      <td>0.0</td>\n",
              "    </tr>\n",
              "    <tr>\n",
              "      <th>1233</th>\n",
              "      <td>229.899994</td>\n",
              "      <td>220.000000</td>\n",
              "      <td>229.000000</td>\n",
              "      <td>220.899994</td>\n",
              "      <td>16194564</td>\n",
              "      <td>NaN</td>\n",
              "      <td>2022-05-25</td>\n",
              "      <td>Utilities</td>\n",
              "      <td>Tata Power</td>\n",
              "      <td>Power - Generation &amp; Distribution</td>\n",
              "      <td>TATAPOWER</td>\n",
              "      <td>TATA POWER CO.LTD.</td>\n",
              "      <td>0.0</td>\n",
              "      <td>0.0</td>\n",
              "    </tr>\n",
              "    <tr>\n",
              "      <th>1234</th>\n",
              "      <td>224.300003</td>\n",
              "      <td>210.199997</td>\n",
              "      <td>222.949997</td>\n",
              "      <td>221.449997</td>\n",
              "      <td>34963419</td>\n",
              "      <td>NaN</td>\n",
              "      <td>2022-05-26</td>\n",
              "      <td>Utilities</td>\n",
              "      <td>Tata Power</td>\n",
              "      <td>Power - Generation &amp; Distribution</td>\n",
              "      <td>TATAPOWER</td>\n",
              "      <td>TATA POWER CO.LTD.</td>\n",
              "      <td>0.0</td>\n",
              "      <td>0.0</td>\n",
              "    </tr>\n",
              "    <tr>\n",
              "      <th>1235</th>\n",
              "      <td>226.800003</td>\n",
              "      <td>222.699997</td>\n",
              "      <td>225.699997</td>\n",
              "      <td>224.649994</td>\n",
              "      <td>16159280</td>\n",
              "      <td>NaN</td>\n",
              "      <td>2022-05-27</td>\n",
              "      <td>Utilities</td>\n",
              "      <td>Tata Power</td>\n",
              "      <td>Power - Generation &amp; Distribution</td>\n",
              "      <td>TATAPOWER</td>\n",
              "      <td>TATA POWER CO.LTD.</td>\n",
              "      <td>0.0</td>\n",
              "      <td>0.0</td>\n",
              "    </tr>\n",
              "  </tbody>\n",
              "</table>\n",
              "<p>216880 rows × 14 columns</p>\n",
              "</div>\n",
              "      <button class=\"colab-df-convert\" onclick=\"convertToInteractive('df-dbb0dcb8-01dc-44a8-9cb1-24eed153f9c0')\"\n",
              "              title=\"Convert this dataframe to an interactive table.\"\n",
              "              style=\"display:none;\">\n",
              "        \n",
              "  <svg xmlns=\"http://www.w3.org/2000/svg\" height=\"24px\"viewBox=\"0 0 24 24\"\n",
              "       width=\"24px\">\n",
              "    <path d=\"M0 0h24v24H0V0z\" fill=\"none\"/>\n",
              "    <path d=\"M18.56 5.44l.94 2.06.94-2.06 2.06-.94-2.06-.94-.94-2.06-.94 2.06-2.06.94zm-11 1L8.5 8.5l.94-2.06 2.06-.94-2.06-.94L8.5 2.5l-.94 2.06-2.06.94zm10 10l.94 2.06.94-2.06 2.06-.94-2.06-.94-.94-2.06-.94 2.06-2.06.94z\"/><path d=\"M17.41 7.96l-1.37-1.37c-.4-.4-.92-.59-1.43-.59-.52 0-1.04.2-1.43.59L10.3 9.45l-7.72 7.72c-.78.78-.78 2.05 0 2.83L4 21.41c.39.39.9.59 1.41.59.51 0 1.02-.2 1.41-.59l7.78-7.78 2.81-2.81c.8-.78.8-2.07 0-2.86zM5.41 20L4 18.59l7.72-7.72 1.47 1.35L5.41 20z\"/>\n",
              "  </svg>\n",
              "      </button>\n",
              "      \n",
              "  <style>\n",
              "    .colab-df-container {\n",
              "      display:flex;\n",
              "      flex-wrap:wrap;\n",
              "      gap: 12px;\n",
              "    }\n",
              "\n",
              "    .colab-df-convert {\n",
              "      background-color: #E8F0FE;\n",
              "      border: none;\n",
              "      border-radius: 50%;\n",
              "      cursor: pointer;\n",
              "      display: none;\n",
              "      fill: #1967D2;\n",
              "      height: 32px;\n",
              "      padding: 0 0 0 0;\n",
              "      width: 32px;\n",
              "    }\n",
              "\n",
              "    .colab-df-convert:hover {\n",
              "      background-color: #E2EBFA;\n",
              "      box-shadow: 0px 1px 2px rgba(60, 64, 67, 0.3), 0px 1px 3px 1px rgba(60, 64, 67, 0.15);\n",
              "      fill: #174EA6;\n",
              "    }\n",
              "\n",
              "    [theme=dark] .colab-df-convert {\n",
              "      background-color: #3B4455;\n",
              "      fill: #D2E3FC;\n",
              "    }\n",
              "\n",
              "    [theme=dark] .colab-df-convert:hover {\n",
              "      background-color: #434B5C;\n",
              "      box-shadow: 0px 1px 3px 1px rgba(0, 0, 0, 0.15);\n",
              "      filter: drop-shadow(0px 1px 2px rgba(0, 0, 0, 0.3));\n",
              "      fill: #FFFFFF;\n",
              "    }\n",
              "  </style>\n",
              "\n",
              "      <script>\n",
              "        const buttonEl =\n",
              "          document.querySelector('#df-dbb0dcb8-01dc-44a8-9cb1-24eed153f9c0 button.colab-df-convert');\n",
              "        buttonEl.style.display =\n",
              "          google.colab.kernel.accessAllowed ? 'block' : 'none';\n",
              "\n",
              "        async function convertToInteractive(key) {\n",
              "          const element = document.querySelector('#df-dbb0dcb8-01dc-44a8-9cb1-24eed153f9c0');\n",
              "          const dataTable =\n",
              "            await google.colab.kernel.invokeFunction('convertToInteractive',\n",
              "                                                     [key], {});\n",
              "          if (!dataTable) return;\n",
              "\n",
              "          const docLinkHtml = 'Like what you see? Visit the ' +\n",
              "            '<a target=\"_blank\" href=https://colab.research.google.com/notebooks/data_table.ipynb>data table notebook</a>'\n",
              "            + ' to learn more about interactive tables.';\n",
              "          element.innerHTML = '';\n",
              "          dataTable['output_type'] = 'display_data';\n",
              "          await google.colab.output.renderOutput(dataTable, element);\n",
              "          const docLink = document.createElement('div');\n",
              "          docLink.innerHTML = docLinkHtml;\n",
              "          element.appendChild(docLink);\n",
              "        }\n",
              "      </script>\n",
              "    </div>\n",
              "  </div>\n",
              "  "
            ]
          },
          "metadata": {},
          "execution_count": 111
        }
      ]
    },
    {
      "cell_type": "markdown",
      "source": [
        "All Symbols"
      ],
      "metadata": {
        "id": "MrmYSqQC3waI"
      }
    },
    {
      "cell_type": "code",
      "source": [
        "all_stock_tick_names = data['Symbol'].unique()\n",
        "print(all_stock_tick_names)"
      ],
      "metadata": {
        "id": "FsXtG3slSslj",
        "colab": {
          "base_uri": "https://localhost:8080/"
        },
        "outputId": "3aad0b52-de55-4ba4-8ea2-983739f7a7c8"
      },
      "execution_count": null,
      "outputs": [
        {
          "output_type": "stream",
          "name": "stdout",
          "text": [
            "['PTL' 'ASHOKLEY' 'TATAMOTORS' 'HINDMOTORS' 'HEROMOTOCO' 'BOSCHLTD' 'M&M'\n",
            " 'MRF' 'EXIDEIND' 'JKTYRE' 'TVSSRICHAK' 'APOLLOTYRE' 'ESCORTS' 'MARUTI'\n",
            " 'TVSMOTOR' 'BAJAJ-AUTO' 'FORCEMOT' 'AUTOAXLES' 'CEATLTD' 'RELIGARE'\n",
            " 'PNBHOUSING' 'LICHSGFIN' 'EDELWEISS' 'L&TFH' 'DELTACORP' 'CENTRALBK'\n",
            " 'BAJAJFINSV' 'BANKINDIA' 'KTKBANK' 'YESBANK' 'BAJFINANCE' 'IDBI'\n",
            " 'SUNDARMFIN' 'BANKBARODA' 'INDUSINDBK' 'UNIONBANK' 'CHOLAFIN' 'IIFL'\n",
            " 'MUTHOOTFIN' 'DCBBANK' 'FEDERALBNK' 'KOTAKBANK' 'KARURVYSYA' 'MOTILALOFS'\n",
            " 'PNB' 'AXISBANK' 'CANBK' 'MANAPPURAM' 'IITL' 'HDFCBANK' 'ICICIBANK'\n",
            " 'SBIN' 'VIVIDHA' 'TANTIACONS' 'UNITECH' 'ORIENTCEM' 'ULTRACEMCO'\n",
            " 'RAMCOCEM' 'INDIACEM' 'AMBUJACEM' 'ACC' 'JKLAKSHMI' 'EVERESTIND'\n",
            " 'PIDILITIND' 'ASIANPAINT' 'BERGEPAINT' 'SINTEX' 'NESCO' 'SBILIFE'\n",
            " 'VOLTAS' 'BOMDYEING' 'ICICIGI' 'BUTTERFLY' 'SYMPHONY' 'WHIRLPOOL'\n",
            " 'BAJAJELEC' 'IFBIND' 'EVEREADY' 'GILLETTE' 'DABUR' 'RELAXO' 'BPL'\n",
            " 'POWERMECH' 'KIRLOSBROS' 'BEML' 'KALPATPOWR' 'LT' 'HPL' 'ADANIPORTS'\n",
            " 'CUMMINSIND' 'THERMAX' 'SIEMENS' 'HAVELLS' 'COFFEEDAY' 'KCPSUGIND'\n",
            " 'DALMIASUG' 'ZYDUSWELL' 'UTTAMSUGAR' 'TATACOFFEE' 'CCL' 'NIITLTD'\n",
            " 'ACCELYA' 'MINDTECK' 'PERSISTENT' 'ZENSARTECH' 'WIPRO' 'DATAMATICS'\n",
            " 'INTENTECH' 'CYIENT' 'NEWGEN' 'NXTDIGITAL' 'MINDTREE' 'TATAELXSI'\n",
            " 'HCLTECH' 'INFY' 'MPHASIS' 'RUCHIRA' 'CENTUM' 'RKFORGE' 'GENUSPOWER'\n",
            " 'ZODIACLOTH' 'SUNDRMFAST' 'BEL' 'VTL' 'RAYMOND' 'EKC' 'TRIDENT' 'JKPAPER'\n",
            " 'NILKAMAL' 'DISHTV' 'TVTODAY' 'ZEEMEDIA' 'CYBERMEDIA' 'VEDL' 'JSWSTEEL'\n",
            " 'TATAMETALI' 'VASWANI' 'TATASTEEL' 'VSSL' 'JSL' 'HINDCOPPER' '5PAISA'\n",
            " 'APOLLO' 'IMAGICAA' 'JUSTDIAL' 'WONDERLA' 'INDIAMART' 'KPITTECH'\n",
            " 'JUBLFOOD' 'ORIENTLTD' 'TITAN' 'CRISIL' 'INFIBEAM' 'RELIANCE'\n",
            " 'WOCKPHARMA' 'LUPIN' 'GLENMARK' 'CIPLA' 'PFIZER' 'VIVIMEDLAB' 'LPDC'\n",
            " 'LODHA' 'KOLTEPATIL' 'DMART' 'DLF' 'SHOPERSTOP' 'ASIANHOTNR' 'ORIENTHOT'\n",
            " 'MHRIL' 'INDHOTEL' 'INDIGO' 'ESSARSHPNG' 'IDEA' 'ITI' 'TATACOMM' 'ITC'\n",
            " 'NTPC' 'TATAPOWER']\n"
          ]
        }
      ]
    },
    {
      "cell_type": "markdown",
      "source": [
        "Input Symbol Name"
      ],
      "metadata": {
        "id": "qS8YGyED34lU"
      }
    },
    {
      "cell_type": "code",
      "source": [
        "# 1. Getting a stock name\n",
        "stock_name = input(\"Enter a Stock Price Symbol: \")\n",
        " \n",
        "# 2. Extrating all the data having the name same as the stock name entered\n",
        "all_data = data['Symbol'] == stock_name\n",
        " \n",
        "# 3. Putting all the rows of specific stock in a variable\n",
        "final_data = data[all_data]\n",
        " \n",
        "# 4. Printing first 5 rows of the stock data of a specific stock name\n",
        "final_data"
      ],
      "metadata": {
        "colab": {
          "base_uri": "https://localhost:8080/",
          "height": 1517
        },
        "id": "fEkXmpyuTmxU",
        "outputId": "6321f9d9-7a7a-445e-ae33-bbf13f0ce628"
      },
      "execution_count": null,
      "outputs": [
        {
          "name": "stdout",
          "output_type": "stream",
          "text": [
            "Enter a Stock Price Symbol: PNB\n"
          ]
        },
        {
          "output_type": "execute_result",
          "data": {
            "text/plain": [
              "            High         Low        Open       Close    Volume Adj Close  \\\n",
              "0     151.850006  143.050003  150.449997  145.100006   8154328       NaN   \n",
              "1     148.000000  142.399994  143.899994  146.350006  10767305       NaN   \n",
              "2     151.600006  145.000000  146.850006  150.500000  16851657       NaN   \n",
              "3     152.300003  149.250000  151.000000  151.899994   9103808       NaN   \n",
              "4     154.050003  150.899994  153.399994  153.050003   7997880       NaN   \n",
              "...          ...         ...         ...         ...       ...       ...   \n",
              "1231   30.850000   29.900000   30.100000   30.600000  42055819       NaN   \n",
              "1232   30.950001   30.150000   30.500000   30.299999  56809933       NaN   \n",
              "1233   30.799999   29.750000   30.350000   29.799999  40570359       NaN   \n",
              "1234   30.450001   28.900000   30.000000   30.250000  43717993       NaN   \n",
              "1235   30.750000   30.100000   30.700001   30.450001  30100376       NaN   \n",
              "\n",
              "           Date           Sector Company Name               Industry Symbol  \\\n",
              "0    2017-05-29  Banking/Finance          PNB  Banks - Public Sector    PNB   \n",
              "1    2017-05-30  Banking/Finance          PNB  Banks - Public Sector    PNB   \n",
              "2    2017-05-31  Banking/Finance          PNB  Banks - Public Sector    PNB   \n",
              "3    2017-06-01  Banking/Finance          PNB  Banks - Public Sector    PNB   \n",
              "4    2017-06-02  Banking/Finance          PNB  Banks - Public Sector    PNB   \n",
              "...         ...              ...          ...                    ...    ...   \n",
              "1231 2022-05-23  Banking/Finance          PNB  Banks - Public Sector    PNB   \n",
              "1232 2022-05-24  Banking/Finance          PNB  Banks - Public Sector    PNB   \n",
              "1233 2022-05-25  Banking/Finance          PNB  Banks - Public Sector    PNB   \n",
              "1234 2022-05-26  Banking/Finance          PNB  Banks - Public Sector    PNB   \n",
              "1235 2022-05-27  Banking/Finance          PNB  Banks - Public Sector    PNB   \n",
              "\n",
              "             Security Name  Dividends  Stock Splits  \n",
              "0     PUNJAB NATIONAL BANK        0.0           0.0  \n",
              "1     PUNJAB NATIONAL BANK        0.0           0.0  \n",
              "2     PUNJAB NATIONAL BANK        0.0           0.0  \n",
              "3     PUNJAB NATIONAL BANK        0.0           0.0  \n",
              "4     PUNJAB NATIONAL BANK        0.0           0.0  \n",
              "...                    ...        ...           ...  \n",
              "1231  PUNJAB NATIONAL BANK        0.0           0.0  \n",
              "1232  PUNJAB NATIONAL BANK        0.0           0.0  \n",
              "1233  PUNJAB NATIONAL BANK        0.0           0.0  \n",
              "1234  PUNJAB NATIONAL BANK        0.0           0.0  \n",
              "1235  PUNJAB NATIONAL BANK        0.0           0.0  \n",
              "\n",
              "[1236 rows x 14 columns]"
            ],
            "text/html": [
              "\n",
              "  <div id=\"df-a8e34e5f-06ad-4d99-8a30-207ac7c81e69\">\n",
              "    <div class=\"colab-df-container\">\n",
              "      <div>\n",
              "<style scoped>\n",
              "    .dataframe tbody tr th:only-of-type {\n",
              "        vertical-align: middle;\n",
              "    }\n",
              "\n",
              "    .dataframe tbody tr th {\n",
              "        vertical-align: top;\n",
              "    }\n",
              "\n",
              "    .dataframe thead th {\n",
              "        text-align: right;\n",
              "    }\n",
              "</style>\n",
              "<table border=\"1\" class=\"dataframe\">\n",
              "  <thead>\n",
              "    <tr style=\"text-align: right;\">\n",
              "      <th></th>\n",
              "      <th>High</th>\n",
              "      <th>Low</th>\n",
              "      <th>Open</th>\n",
              "      <th>Close</th>\n",
              "      <th>Volume</th>\n",
              "      <th>Adj Close</th>\n",
              "      <th>Date</th>\n",
              "      <th>Sector</th>\n",
              "      <th>Company Name</th>\n",
              "      <th>Industry</th>\n",
              "      <th>Symbol</th>\n",
              "      <th>Security Name</th>\n",
              "      <th>Dividends</th>\n",
              "      <th>Stock Splits</th>\n",
              "    </tr>\n",
              "  </thead>\n",
              "  <tbody>\n",
              "    <tr>\n",
              "      <th>0</th>\n",
              "      <td>151.850006</td>\n",
              "      <td>143.050003</td>\n",
              "      <td>150.449997</td>\n",
              "      <td>145.100006</td>\n",
              "      <td>8154328</td>\n",
              "      <td>NaN</td>\n",
              "      <td>2017-05-29</td>\n",
              "      <td>Banking/Finance</td>\n",
              "      <td>PNB</td>\n",
              "      <td>Banks - Public Sector</td>\n",
              "      <td>PNB</td>\n",
              "      <td>PUNJAB NATIONAL BANK</td>\n",
              "      <td>0.0</td>\n",
              "      <td>0.0</td>\n",
              "    </tr>\n",
              "    <tr>\n",
              "      <th>1</th>\n",
              "      <td>148.000000</td>\n",
              "      <td>142.399994</td>\n",
              "      <td>143.899994</td>\n",
              "      <td>146.350006</td>\n",
              "      <td>10767305</td>\n",
              "      <td>NaN</td>\n",
              "      <td>2017-05-30</td>\n",
              "      <td>Banking/Finance</td>\n",
              "      <td>PNB</td>\n",
              "      <td>Banks - Public Sector</td>\n",
              "      <td>PNB</td>\n",
              "      <td>PUNJAB NATIONAL BANK</td>\n",
              "      <td>0.0</td>\n",
              "      <td>0.0</td>\n",
              "    </tr>\n",
              "    <tr>\n",
              "      <th>2</th>\n",
              "      <td>151.600006</td>\n",
              "      <td>145.000000</td>\n",
              "      <td>146.850006</td>\n",
              "      <td>150.500000</td>\n",
              "      <td>16851657</td>\n",
              "      <td>NaN</td>\n",
              "      <td>2017-05-31</td>\n",
              "      <td>Banking/Finance</td>\n",
              "      <td>PNB</td>\n",
              "      <td>Banks - Public Sector</td>\n",
              "      <td>PNB</td>\n",
              "      <td>PUNJAB NATIONAL BANK</td>\n",
              "      <td>0.0</td>\n",
              "      <td>0.0</td>\n",
              "    </tr>\n",
              "    <tr>\n",
              "      <th>3</th>\n",
              "      <td>152.300003</td>\n",
              "      <td>149.250000</td>\n",
              "      <td>151.000000</td>\n",
              "      <td>151.899994</td>\n",
              "      <td>9103808</td>\n",
              "      <td>NaN</td>\n",
              "      <td>2017-06-01</td>\n",
              "      <td>Banking/Finance</td>\n",
              "      <td>PNB</td>\n",
              "      <td>Banks - Public Sector</td>\n",
              "      <td>PNB</td>\n",
              "      <td>PUNJAB NATIONAL BANK</td>\n",
              "      <td>0.0</td>\n",
              "      <td>0.0</td>\n",
              "    </tr>\n",
              "    <tr>\n",
              "      <th>4</th>\n",
              "      <td>154.050003</td>\n",
              "      <td>150.899994</td>\n",
              "      <td>153.399994</td>\n",
              "      <td>153.050003</td>\n",
              "      <td>7997880</td>\n",
              "      <td>NaN</td>\n",
              "      <td>2017-06-02</td>\n",
              "      <td>Banking/Finance</td>\n",
              "      <td>PNB</td>\n",
              "      <td>Banks - Public Sector</td>\n",
              "      <td>PNB</td>\n",
              "      <td>PUNJAB NATIONAL BANK</td>\n",
              "      <td>0.0</td>\n",
              "      <td>0.0</td>\n",
              "    </tr>\n",
              "    <tr>\n",
              "      <th>...</th>\n",
              "      <td>...</td>\n",
              "      <td>...</td>\n",
              "      <td>...</td>\n",
              "      <td>...</td>\n",
              "      <td>...</td>\n",
              "      <td>...</td>\n",
              "      <td>...</td>\n",
              "      <td>...</td>\n",
              "      <td>...</td>\n",
              "      <td>...</td>\n",
              "      <td>...</td>\n",
              "      <td>...</td>\n",
              "      <td>...</td>\n",
              "      <td>...</td>\n",
              "    </tr>\n",
              "    <tr>\n",
              "      <th>1231</th>\n",
              "      <td>30.850000</td>\n",
              "      <td>29.900000</td>\n",
              "      <td>30.100000</td>\n",
              "      <td>30.600000</td>\n",
              "      <td>42055819</td>\n",
              "      <td>NaN</td>\n",
              "      <td>2022-05-23</td>\n",
              "      <td>Banking/Finance</td>\n",
              "      <td>PNB</td>\n",
              "      <td>Banks - Public Sector</td>\n",
              "      <td>PNB</td>\n",
              "      <td>PUNJAB NATIONAL BANK</td>\n",
              "      <td>0.0</td>\n",
              "      <td>0.0</td>\n",
              "    </tr>\n",
              "    <tr>\n",
              "      <th>1232</th>\n",
              "      <td>30.950001</td>\n",
              "      <td>30.150000</td>\n",
              "      <td>30.500000</td>\n",
              "      <td>30.299999</td>\n",
              "      <td>56809933</td>\n",
              "      <td>NaN</td>\n",
              "      <td>2022-05-24</td>\n",
              "      <td>Banking/Finance</td>\n",
              "      <td>PNB</td>\n",
              "      <td>Banks - Public Sector</td>\n",
              "      <td>PNB</td>\n",
              "      <td>PUNJAB NATIONAL BANK</td>\n",
              "      <td>0.0</td>\n",
              "      <td>0.0</td>\n",
              "    </tr>\n",
              "    <tr>\n",
              "      <th>1233</th>\n",
              "      <td>30.799999</td>\n",
              "      <td>29.750000</td>\n",
              "      <td>30.350000</td>\n",
              "      <td>29.799999</td>\n",
              "      <td>40570359</td>\n",
              "      <td>NaN</td>\n",
              "      <td>2022-05-25</td>\n",
              "      <td>Banking/Finance</td>\n",
              "      <td>PNB</td>\n",
              "      <td>Banks - Public Sector</td>\n",
              "      <td>PNB</td>\n",
              "      <td>PUNJAB NATIONAL BANK</td>\n",
              "      <td>0.0</td>\n",
              "      <td>0.0</td>\n",
              "    </tr>\n",
              "    <tr>\n",
              "      <th>1234</th>\n",
              "      <td>30.450001</td>\n",
              "      <td>28.900000</td>\n",
              "      <td>30.000000</td>\n",
              "      <td>30.250000</td>\n",
              "      <td>43717993</td>\n",
              "      <td>NaN</td>\n",
              "      <td>2022-05-26</td>\n",
              "      <td>Banking/Finance</td>\n",
              "      <td>PNB</td>\n",
              "      <td>Banks - Public Sector</td>\n",
              "      <td>PNB</td>\n",
              "      <td>PUNJAB NATIONAL BANK</td>\n",
              "      <td>0.0</td>\n",
              "      <td>0.0</td>\n",
              "    </tr>\n",
              "    <tr>\n",
              "      <th>1235</th>\n",
              "      <td>30.750000</td>\n",
              "      <td>30.100000</td>\n",
              "      <td>30.700001</td>\n",
              "      <td>30.450001</td>\n",
              "      <td>30100376</td>\n",
              "      <td>NaN</td>\n",
              "      <td>2022-05-27</td>\n",
              "      <td>Banking/Finance</td>\n",
              "      <td>PNB</td>\n",
              "      <td>Banks - Public Sector</td>\n",
              "      <td>PNB</td>\n",
              "      <td>PUNJAB NATIONAL BANK</td>\n",
              "      <td>0.0</td>\n",
              "      <td>0.0</td>\n",
              "    </tr>\n",
              "  </tbody>\n",
              "</table>\n",
              "<p>1236 rows × 14 columns</p>\n",
              "</div>\n",
              "      <button class=\"colab-df-convert\" onclick=\"convertToInteractive('df-a8e34e5f-06ad-4d99-8a30-207ac7c81e69')\"\n",
              "              title=\"Convert this dataframe to an interactive table.\"\n",
              "              style=\"display:none;\">\n",
              "        \n",
              "  <svg xmlns=\"http://www.w3.org/2000/svg\" height=\"24px\"viewBox=\"0 0 24 24\"\n",
              "       width=\"24px\">\n",
              "    <path d=\"M0 0h24v24H0V0z\" fill=\"none\"/>\n",
              "    <path d=\"M18.56 5.44l.94 2.06.94-2.06 2.06-.94-2.06-.94-.94-2.06-.94 2.06-2.06.94zm-11 1L8.5 8.5l.94-2.06 2.06-.94-2.06-.94L8.5 2.5l-.94 2.06-2.06.94zm10 10l.94 2.06.94-2.06 2.06-.94-2.06-.94-.94-2.06-.94 2.06-2.06.94z\"/><path d=\"M17.41 7.96l-1.37-1.37c-.4-.4-.92-.59-1.43-.59-.52 0-1.04.2-1.43.59L10.3 9.45l-7.72 7.72c-.78.78-.78 2.05 0 2.83L4 21.41c.39.39.9.59 1.41.59.51 0 1.02-.2 1.41-.59l7.78-7.78 2.81-2.81c.8-.78.8-2.07 0-2.86zM5.41 20L4 18.59l7.72-7.72 1.47 1.35L5.41 20z\"/>\n",
              "  </svg>\n",
              "      </button>\n",
              "      \n",
              "  <style>\n",
              "    .colab-df-container {\n",
              "      display:flex;\n",
              "      flex-wrap:wrap;\n",
              "      gap: 12px;\n",
              "    }\n",
              "\n",
              "    .colab-df-convert {\n",
              "      background-color: #E8F0FE;\n",
              "      border: none;\n",
              "      border-radius: 50%;\n",
              "      cursor: pointer;\n",
              "      display: none;\n",
              "      fill: #1967D2;\n",
              "      height: 32px;\n",
              "      padding: 0 0 0 0;\n",
              "      width: 32px;\n",
              "    }\n",
              "\n",
              "    .colab-df-convert:hover {\n",
              "      background-color: #E2EBFA;\n",
              "      box-shadow: 0px 1px 2px rgba(60, 64, 67, 0.3), 0px 1px 3px 1px rgba(60, 64, 67, 0.15);\n",
              "      fill: #174EA6;\n",
              "    }\n",
              "\n",
              "    [theme=dark] .colab-df-convert {\n",
              "      background-color: #3B4455;\n",
              "      fill: #D2E3FC;\n",
              "    }\n",
              "\n",
              "    [theme=dark] .colab-df-convert:hover {\n",
              "      background-color: #434B5C;\n",
              "      box-shadow: 0px 1px 3px 1px rgba(0, 0, 0, 0.15);\n",
              "      filter: drop-shadow(0px 1px 2px rgba(0, 0, 0, 0.3));\n",
              "      fill: #FFFFFF;\n",
              "    }\n",
              "  </style>\n",
              "\n",
              "      <script>\n",
              "        const buttonEl =\n",
              "          document.querySelector('#df-a8e34e5f-06ad-4d99-8a30-207ac7c81e69 button.colab-df-convert');\n",
              "        buttonEl.style.display =\n",
              "          google.colab.kernel.accessAllowed ? 'block' : 'none';\n",
              "\n",
              "        async function convertToInteractive(key) {\n",
              "          const element = document.querySelector('#df-a8e34e5f-06ad-4d99-8a30-207ac7c81e69');\n",
              "          const dataTable =\n",
              "            await google.colab.kernel.invokeFunction('convertToInteractive',\n",
              "                                                     [key], {});\n",
              "          if (!dataTable) return;\n",
              "\n",
              "          const docLinkHtml = 'Like what you see? Visit the ' +\n",
              "            '<a target=\"_blank\" href=https://colab.research.google.com/notebooks/data_table.ipynb>data table notebook</a>'\n",
              "            + ' to learn more about interactive tables.';\n",
              "          element.innerHTML = '';\n",
              "          dataTable['output_type'] = 'display_data';\n",
              "          await google.colab.output.renderOutput(dataTable, element);\n",
              "          const docLink = document.createElement('div');\n",
              "          docLink.innerHTML = docLinkHtml;\n",
              "          element.appendChild(docLink);\n",
              "        }\n",
              "      </script>\n",
              "    </div>\n",
              "  </div>\n",
              "  "
            ]
          },
          "metadata": {},
          "execution_count": 113
        }
      ]
    },
    {
      "cell_type": "markdown",
      "source": [
        "Comparing 5 years vs 3 months data"
      ],
      "metadata": {
        "id": "Fu2vUXfB4Fus"
      }
    },
    {
      "cell_type": "code",
      "source": [
        "#  Plotting date vs the close market stock price\n",
        "plt.figure(figsize=(10,3))\n",
        "plt.title('5 Years', fontsize=13)\n",
        "plt.xlabel('Date', fontsize=12)\n",
        "plt.ylabel('Close', fontsize=12)\n",
        "plt.plot(final_data.Date, final_data.Close,color='red')\n",
        "\n",
        "# Extract only top 60 rows to make the plot a little clearer\n",
        "new_data = final_data.tail(60)\n",
        "plt.figure(figsize=(10,3))\n",
        "plt.title('3 months', fontsize=13)\n",
        "plt.xlabel('Date', fontsize=12)\n",
        "plt.ylabel('Close', fontsize=12)\n",
        "plt.plot(new_data.Date, new_data.Close,color='green')\n",
        "plt.show()"
      ],
      "metadata": {
        "colab": {
          "base_uri": "https://localhost:8080/",
          "height": 471
        },
        "id": "k0rqYkdu6kRY",
        "outputId": "32926897-4933-434c-c75e-1ac40c912b44"
      },
      "execution_count": null,
      "outputs": [
        {
          "output_type": "display_data",
          "data": {
            "text/plain": [
              "<Figure size 720x216 with 1 Axes>"
            ],
            "image/png": "[encoded data removed]"
          },
          "metadata": {
            "needs_background": "light"
          }
        },
        {
          "output_type": "display_data",
          "data": {
            "text/plain": [
              "<Figure size 720x216 with 1 Axes>"
            ],
            "image/png": "[encoded data removed]"
          },
          "metadata": {
            "needs_background": "light"
          }
        }
      ]
    },
    {
      "cell_type": "markdown",
      "source": [
        "Creating a new Dataframe and Training data"
      ],
      "metadata": {
        "id": "66E_Xqrb4pz2"
      }
    },
    {
      "cell_type": "code",
      "source": [
        "# 1. Filter out the closing market price data\n",
        "close_data = final_data.filter(['Close'])\n",
        " \n",
        "# 2. Convert the data into array for easy evaluation\n",
        "dataset = close_data.values\n",
        " \n",
        "# 3. Scale/Normalize the data to make all values between 0 and 1\n",
        "scaler = MinMaxScaler(feature_range=(0, 1))\n",
        "scaled_data = scaler.fit_transform(dataset)\n",
        " \n",
        "# 4. Creating training data size : 70% of the data\n",
        "training_data_len = math.ceil(len(dataset) *.7)\n",
        "train_data = scaled_data[0:training_data_len  , : ]\n",
        " \n",
        "# 5. Separating the data into x and y data\n",
        "x_train_data=[]\n",
        "y_train_data =[]\n",
        "for i in range(60,len(train_data)):\n",
        "    x_train_data=list(x_train_data)\n",
        "    y_train_data=list(y_train_data)\n",
        "    x_train_data.append(train_data[i-60:i,0])\n",
        "    y_train_data.append(train_data[i,0])\n",
        " \n",
        "    # 6. Converting the training x and y values to numpy arrays\n",
        "    x_train_data1, y_train_data1 = np.array(x_train_data), np.array(y_train_data)\n",
        " \n",
        "    # 7. Reshaping training s and y data to make the calculations easier\n",
        "    x_train_data2 = np.reshape(x_train_data1, (x_train_data1.shape[0],x_train_data1.shape[1],1))"
      ],
      "metadata": {
        "id": "EZREtPHPxYBK"
      },
      "execution_count": null,
      "outputs": []
    },
    {
      "cell_type": "markdown",
      "source": [
        "Building LSTM Model"
      ],
      "metadata": {
        "id": "UGwTqlgm4wI-"
      }
    },
    {
      "cell_type": "code",
      "source": [
        "model = Sequential()\n",
        "model.add(LSTM(units=50, return_sequences=True,input_shape=(x_train_data2.shape[1],1)))\n",
        "model.add(LSTM(units=50, return_sequences=False))\n",
        "model.add(Dense(units=25))\n",
        "model.add(Dense(units=1))"
      ],
      "metadata": {
        "id": "hxzZccuqxnuB"
      },
      "execution_count": null,
      "outputs": []
    },
    {
      "cell_type": "markdown",
      "source": [
        "Compiling the Model"
      ],
      "metadata": {
        "id": "loHr-8Js46z0"
      }
    },
    {
      "cell_type": "code",
      "source": [
        "model.compile(optimizer='adam', loss='mean_squared_error')\n",
        "model.fit(x_train_data2, y_train_data1, batch_size=1, epochs=1)"
      ],
      "metadata": {
        "colab": {
          "base_uri": "https://localhost:8080/"
        },
        "id": "fQ3ap9V5xvgy",
        "outputId": "baa04905-042f-40c3-c695-0bdf45518cef"
      },
      "execution_count": null,
      "outputs": [
        {
          "output_type": "stream",
          "name": "stdout",
          "text": [
            "806/806 [==============================] - 7s 6ms/step - loss: 0.0031\n"
          ]
        },
        {
          "output_type": "execute_result",
          "data": {
            "text/plain": [
              "<keras.callbacks.History at 0x7f0a39d30650>"
            ]
          },
          "metadata": {},
          "execution_count": 121
        }
      ]
    },
    {
      "cell_type": "markdown",
      "source": [
        "Testing the model on testing data"
      ],
      "metadata": {
        "id": "uzdBv0Ps5HNc"
      }
    },
    {
      "cell_type": "code",
      "source": [
        "# 1. Creating a dataset for testing\n",
        "test_data = scaled_data[training_data_len - 60: , : ]\n",
        "x_test = []\n",
        "y_test =  dataset[training_data_len : , : ]\n",
        "for i in range(60,len(test_data)):\n",
        "    x_test.append(test_data[i-60:i,0])\n",
        " \n",
        "# 2.  Convert the values into arrays for easier computation\n",
        "x_test = np.array(x_test)\n",
        "x_test = np.reshape(x_test, (x_test.shape[0],x_test.shape[1],1))\n",
        " \n",
        "# 3. Making predictions on the testing data\n",
        "predictions = model.predict(x_test)\n",
        "predictions = scaler.inverse_transform(predictions)"
      ],
      "metadata": {
        "id": "0-CX_uejx4VY"
      },
      "execution_count": null,
      "outputs": []
    },
    {
      "cell_type": "markdown",
      "source": [
        "Make Predictions"
      ],
      "metadata": {
        "id": "00JUYXUt5MqQ"
      }
    },
    {
      "cell_type": "code",
      "source": [
        "train = final_data[:training_data_len]\n",
        "valid = final_data[training_data_len:]\n",
        " \n",
        "valid['Predictions'] = predictions\n",
        "plt.figure(figsize=(20,8))\n",
        "plt.title('Model')\n",
        "plt.xlabel('Date')\n",
        "plt.ylabel('Close')\n",
        " \n",
        "plt.plot(train['Close'])\n",
        "plt.plot(valid[['Close', 'Predictions']])\n",
        " \n",
        "plt.legend(['Train', 'Val', 'Predictions'], loc='lower right')\n",
        " \n",
        "plt.show()"
      ],
      "metadata": {
        "colab": {
          "base_uri": "https://localhost:8080/",
          "height": 617
        },
        "id": "URZOSdUPyTz5",
        "outputId": "f35a23ad-9680-4cb0-9591-6e0fb858fd7f"
      },
      "execution_count": null,
      "outputs": [
        {
          "output_type": "stream",
          "name": "stderr",
          "text": [
            "/usr/local/lib/python3.7/dist-packages/ipykernel_launcher.py:4: SettingWithCopyWarning: \n",
            "A value is trying to be set on a copy of a slice from a DataFrame.\n",
            "Try using .loc[row_indexer,col_indexer] = value instead\n",
            "\n",
            "See the caveats in the documentation: https://pandas.pydata.org/pandas-docs/stable/user_guide/indexing.html#returning-a-view-versus-a-copy\n",
            "  after removing the cwd from sys.path.\n"
          ]
        },
        {
          "output_type": "display_data",
          "data": {
            "text/plain": [
              "<Figure size 1440x576 with 1 Axes>"
            ],
            "image/png": "[encoded data removed]"
          },
          "metadata": {
            "needs_background": "light"
          }
        }
      ]
    },
    {
      "cell_type": "markdown",
      "source": [
        "Actual vs Predicted Values"
      ],
      "metadata": {
        "id": "84ZKVyR55OgS"
      }
    },
    {
      "cell_type": "code",
      "source": [
        "table = pd.DataFrame(data=valid, columns=['Close','Predictions'])\n",
        "table"
      ],
      "metadata": {
        "colab": {
          "base_uri": "https://localhost:8080/",
          "height": 656
        },
        "id": "_m8J27PmiDX5",
        "outputId": "842f468e-e1c2-4850-c465-d90213ae793b"
      },
      "execution_count": null,
      "outputs": [
        {
          "output_type": "execute_result",
          "data": {
            "text/plain": [
              "           Close  Predictions\n",
              "866   180.350006   163.159409\n",
              "867   179.750000   165.553482\n",
              "868   183.600006   167.825500\n",
              "869   184.850006   170.153397\n",
              "870   184.149994   172.435257\n",
              "...          ...          ...\n",
              "1231  421.450012   414.142303\n",
              "1232  425.750000   416.424713\n",
              "1233  417.000000   419.368347\n",
              "1234  420.649994   421.670349\n",
              "1235  429.600006   423.786133\n",
              "\n",
              "[370 rows x 2 columns]"
            ],
            "text/html": [
              "\n",
              "  <div id=\"df-dbb4e685-98d3-4d84-94f6-c736c12c7234\">\n",
              "    <div class=\"colab-df-container\">\n",
              "      <div>\n",
              "<style scoped>\n",
              "    .dataframe tbody tr th:only-of-type {\n",
              "        vertical-align: middle;\n",
              "    }\n",
              "\n",
              "    .dataframe tbody tr th {\n",
              "        vertical-align: top;\n",
              "    }\n",
              "\n",
              "    .dataframe thead th {\n",
              "        text-align: right;\n",
              "    }\n",
              "</style>\n",
              "<table border=\"1\" class=\"dataframe\">\n",
              "  <thead>\n",
              "    <tr style=\"text-align: right;\">\n",
              "      <th></th>\n",
              "      <th>Close</th>\n",
              "      <th>Predictions</th>\n",
              "    </tr>\n",
              "  </thead>\n",
              "  <tbody>\n",
              "    <tr>\n",
              "      <th>866</th>\n",
              "      <td>180.350006</td>\n",
              "      <td>163.159409</td>\n",
              "    </tr>\n",
              "    <tr>\n",
              "      <th>867</th>\n",
              "      <td>179.750000</td>\n",
              "      <td>165.553482</td>\n",
              "    </tr>\n",
              "    <tr>\n",
              "      <th>868</th>\n",
              "      <td>183.600006</td>\n",
              "      <td>167.825500</td>\n",
              "    </tr>\n",
              "    <tr>\n",
              "      <th>869</th>\n",
              "      <td>184.850006</td>\n",
              "      <td>170.153397</td>\n",
              "    </tr>\n",
              "    <tr>\n",
              "      <th>870</th>\n",
              "      <td>184.149994</td>\n",
              "      <td>172.435257</td>\n",
              "    </tr>\n",
              "    <tr>\n",
              "      <th>...</th>\n",
              "      <td>...</td>\n",
              "      <td>...</td>\n",
              "    </tr>\n",
              "    <tr>\n",
              "      <th>1231</th>\n",
              "      <td>421.450012</td>\n",
              "      <td>414.142303</td>\n",
              "    </tr>\n",
              "    <tr>\n",
              "      <th>1232</th>\n",
              "      <td>425.750000</td>\n",
              "      <td>416.424713</td>\n",
              "    </tr>\n",
              "    <tr>\n",
              "      <th>1233</th>\n",
              "      <td>417.000000</td>\n",
              "      <td>419.368347</td>\n",
              "    </tr>\n",
              "    <tr>\n",
              "      <th>1234</th>\n",
              "      <td>420.649994</td>\n",
              "      <td>421.670349</td>\n",
              "    </tr>\n",
              "    <tr>\n",
              "      <th>1235</th>\n",
              "      <td>429.600006</td>\n",
              "      <td>423.786133</td>\n",
              "    </tr>\n",
              "  </tbody>\n",
              "</table>\n",
              "<p>370 rows × 2 columns</p>\n",
              "</div>\n",
              "      <button class=\"colab-df-convert\" onclick=\"convertToInteractive('df-dbb4e685-98d3-4d84-94f6-c736c12c7234')\"\n",
              "              title=\"Convert this dataframe to an interactive table.\"\n",
              "              style=\"display:none;\">\n",
              "        \n",
              "  <svg xmlns=\"http://www.w3.org/2000/svg\" height=\"24px\"viewBox=\"0 0 24 24\"\n",
              "       width=\"24px\">\n",
              "    <path d=\"M0 0h24v24H0V0z\" fill=\"none\"/>\n",
              "    <path d=\"M18.56 5.44l.94 2.06.94-2.06 2.06-.94-2.06-.94-.94-2.06-.94 2.06-2.06.94zm-11 1L8.5 8.5l.94-2.06 2.06-.94-2.06-.94L8.5 2.5l-.94 2.06-2.06.94zm10 10l.94 2.06.94-2.06 2.06-.94-2.06-.94-.94-2.06-.94 2.06-2.06.94z\"/><path d=\"M17.41 7.96l-1.37-1.37c-.4-.4-.92-.59-1.43-.59-.52 0-1.04.2-1.43.59L10.3 9.45l-7.72 7.72c-.78.78-.78 2.05 0 2.83L4 21.41c.39.39.9.59 1.41.59.51 0 1.02-.2 1.41-.59l7.78-7.78 2.81-2.81c.8-.78.8-2.07 0-2.86zM5.41 20L4 18.59l7.72-7.72 1.47 1.35L5.41 20z\"/>\n",
              "  </svg>\n",
              "      </button>\n",
              "      \n",
              "  <style>\n",
              "    .colab-df-container {\n",
              "      display:flex;\n",
              "      flex-wrap:wrap;\n",
              "      gap: 12px;\n",
              "    }\n",
              "\n",
              "    .colab-df-convert {\n",
              "      background-color: #E8F0FE;\n",
              "      border: none;\n",
              "      border-radius: 50%;\n",
              "      cursor: pointer;\n",
              "      display: none;\n",
              "      fill: #1967D2;\n",
              "      height: 32px;\n",
              "      padding: 0 0 0 0;\n",
              "      width: 32px;\n",
              "    }\n",
              "\n",
              "    .colab-df-convert:hover {\n",
              "      background-color: #E2EBFA;\n",
              "      box-shadow: 0px 1px 2px rgba(60, 64, 67, 0.3), 0px 1px 3px 1px rgba(60, 64, 67, 0.15);\n",
              "      fill: #174EA6;\n",
              "    }\n",
              "\n",
              "    [theme=dark] .colab-df-convert {\n",
              "      background-color: #3B4455;\n",
              "      fill: #D2E3FC;\n",
              "    }\n",
              "\n",
              "    [theme=dark] .colab-df-convert:hover {\n",
              "      background-color: #434B5C;\n",
              "      box-shadow: 0px 1px 3px 1px rgba(0, 0, 0, 0.15);\n",
              "      filter: drop-shadow(0px 1px 2px rgba(0, 0, 0, 0.3));\n",
              "      fill: #FFFFFF;\n",
              "    }\n",
              "  </style>\n",
              "\n",
              "      <script>\n",
              "        const buttonEl =\n",
              "          document.querySelector('#df-dbb4e685-98d3-4d84-94f6-c736c12c7234 button.colab-df-convert');\n",
              "        buttonEl.style.display =\n",
              "          google.colab.kernel.accessAllowed ? 'block' : 'none';\n",
              "\n",
              "        async function convertToInteractive(key) {\n",
              "          const element = document.querySelector('#df-dbb4e685-98d3-4d84-94f6-c736c12c7234');\n",
              "          const dataTable =\n",
              "            await google.colab.kernel.invokeFunction('convertToInteractive',\n",
              "                                                     [key], {});\n",
              "          if (!dataTable) return;\n",
              "\n",
              "          const docLinkHtml = 'Like what you see? Visit the ' +\n",
              "            '<a target=\"_blank\" href=https://colab.research.google.com/notebooks/data_table.ipynb>data table notebook</a>'\n",
              "            + ' to learn more about interactive tables.';\n",
              "          element.innerHTML = '';\n",
              "          dataTable['output_type'] = 'display_data';\n",
              "          await google.colab.output.renderOutput(dataTable, element);\n",
              "          const docLink = document.createElement('div');\n",
              "          docLink.innerHTML = docLinkHtml;\n",
              "          element.appendChild(docLink);\n",
              "        }\n",
              "      </script>\n",
              "    </div>\n",
              "  </div>\n",
              "  "
            ]
          },
          "metadata": {},
          "execution_count": 98
        }
      ]
    }
  ]
}